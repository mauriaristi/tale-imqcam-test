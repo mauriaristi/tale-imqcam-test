{
 "cells": [
  {
   "cell_type": "markdown",
   "id": "c3588522",
   "metadata": {},
   "source": [
    "# This is a Tale test.\n",
    "\n",
    "Include equations like $\\epsilon_1$\n",
    "\n",
    "$$\n",
    "\\mathbf{K}\\mathbf{u}=\\mathbf{f}\n",
    "$$\n",
    "\n",
    "\n",
    "Using complex numbers"
   ]
  },
  {
   "cell_type": "code",
   "execution_count": 2,
   "id": "5990c75b",
   "metadata": {},
   "outputs": [],
   "source": [
    "import cmath"
   ]
  },
  {
   "cell_type": "code",
   "execution_count": 3,
   "id": "533ad409",
   "metadata": {},
   "outputs": [
    {
     "data": {
      "text/plain": [
       "(0.21775955162215221-1.1634403637032504j)"
      ]
     },
     "execution_count": 3,
     "metadata": {},
     "output_type": "execute_result"
    }
   ],
   "source": [
    "a = 3+1j\n",
    "cmath.sin(a)"
   ]
  }
 ],
 "metadata": {
  "kernelspec": {
   "display_name": "Python 3 (ipykernel)",
   "language": "python",
   "name": "python3"
  },
  "language_info": {
   "codemirror_mode": {
    "name": "ipython",
    "version": 3
   },
   "file_extension": ".py",
   "mimetype": "text/x-python",
   "name": "python",
   "nbconvert_exporter": "python",
   "pygments_lexer": "ipython3",
   "version": "3.9.7"
  }
 },
 "nbformat": 4,
 "nbformat_minor": 5
}
