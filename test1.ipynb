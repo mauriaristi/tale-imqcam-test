{
 "cells": [
  {
   "cell_type": "markdown",
   "id": "c3588522",
   "metadata": {},
   "source": [
    "# This is a Tale test.\n",
    "\n",
    "Include equations like $\\epsilon_1$\n",
    "\n",
    "$$\n",
    "\\mathbf{K}\\mathbf{u}=\\mathbf{f}\n",
    "$$\n",
    "\n",
    "\n",
    "Using complex numbers for automatic differentiation (Complex-step derivative)"
   ]
  },
  {
   "cell_type": "code",
   "execution_count": null,
   "id": "5990c75b",
   "metadata": {},
   "outputs": [],
   "source": [
    "import cmath"
   ]
  },
  {
   "cell_type": "code",
   "execution_count": null,
   "id": "533ad409",
   "metadata": {},
   "outputs": [],
   "source": [
    "a = 3+1j\n",
    "cmath.sin(a)"
   ]
  },
  {
   "cell_type": "markdown",
   "id": "deb1b498",
   "metadata": {},
   "source": [
    "# HYPercomplex Automatic Differentiation [HYPAD](https://ceid.utsa.edu/HYPAD/) <img style=\"display: inline-block; margin: 1px;\" src=\"imgs/HYPAD_logo.png\"/> \n",
    "\n",
    "The HYPercomplex Automatic Differentiation is a methodology to infuse existing codes with automatic differentiation capabilities. The method consists of “augmenting” variables with one or more imaginary units to obtain partial derivatives that are step-size independent and machine precision accurate. It is an attractive method because the existing numerical method is enhanced in a straightforward manner. For more information, go to the [HYPAD](https://ceid.utsa.edu/HYPAD/) website, where you will find references, educational material and links to supporting libraries for arbitrary-order derivative computation.\n",
    "\n",
    "![UTSA_rowdy](imgs/rowdy.png)\n",
    "\n",
    "This purpose of this tale is to show an example of how HYPAD is applied to a simple numerical algorithm using Order Truncated Imgainary (OTI) Numbers. OTI Numbers, is an algebra taylored to efficiently compute multivariate, arbitrary-order derivatives.\n",
    "\n",
    "## 1. General steps to follow\n",
    "\n",
    "Consider a two variable function $f(x,y)$, $f:\\mathbb{R}^2\\rightarrow\\mathbb{R}$. Assume we want to compute the first order derivatives of $f$ with respect to $x$ and $y$, that is, $\\partial f/\\partial x$ and $\\partial f/\\partial y$. We want the derivatives at a particular point $(x_0,y_0)$.\n",
    "\n",
    "The general steps to use HYPAD in our codes is as follows:\n",
    "1. **Import the supporting library**: In this case, OTI numbers is supported by the ```pyoti``` library. Particularly, this example will use the sparse version.\n",
    "\n",
    "``` python\n",
    "import pyoti.sparse as oti\n",
    "```\n",
    "\n",
    "2. **Apply the perturbations to the variables of interest**: Variables of interest (those variables that we want to compute derivatives with respect to) are perturbed along imaginary directions $\\epsilon_i$. A truncation order is defined according to the maximum order of derivative desired.\n",
    "$$\n",
    "x^*=x_0 + \\epsilon_1; x^*\\in\\mathbb{OTI}^1\n",
    "y^*=y_0 + \\epsilon_2; y^*\\in\\mathbb{OTI}^1\n",
    "$$\n",
    "Here, the values of $x_0$ and $y_0$ are the real-values that we want the derivatives evaluated at. Additionally, $x^*\\in\\mathbb{OTI}^1$ indicates that the truncation order of variable $x^*$ is set to 1, because we want to compute first order derivatives only. \n",
    "\n",
    "In ```pyoti```, the function ```oti.e(imDir,order=*)``` provides a convenient way of defining imaginary direction terms:\n",
    "```python\n",
    "x_star = x_0 + oti.e(1)\n",
    "y_star = y_0 + oti.e(2)\n",
    "```\n",
    "\n",
    "3. **\"Hypercomplexify\" the function of interest**: The function of interest must be defined with support of the hypercomplex algebra operations. This typically means that instead of using traditional math libraries like ```math``` or ```numpy``` to evaluate your functions/operations, you must define these from a library that supports the hypercomplex algebra used. In this tale, we will use ```pyoti```'s support, thus for example, the case of $sin(x)$, do not use ```np.sin(x)```, instead use ```oti.sin(x)```. This modification is minimal in your typical workflow.\n",
    "\n",
    "3. **Evaluate the function with the perturbed inputs**: The function of interest is evaluated with the perturbed inputs. The result will contain imaginary coefficients that contain the derivative information sought.\n",
    "\n",
    "4. **Extract the derivative information from evaluated number**: The result of evaluating the function with OTI perturbations is an OTI number whose imaginary coefficients contain the derivative information. One needs to extract the derivatives, which typically consists of using The imaginary coefficients in the OTI \n"
   ]
  },
  {
   "cell_type": "code",
   "execution_count": null,
   "id": "db957341",
   "metadata": {},
   "outputs": [],
   "source": [
    "# Step-1 Import the support library\n",
    "import pyoti.sparse as oti"
   ]
  },
  {
   "cell_type": "code",
   "execution_count": null,
   "id": "d252276e",
   "metadata": {},
   "outputs": [],
   "source": [
    "# Step-2: Apply the perturbations to the function of interest.\n",
    "\n",
    "x_0 = 1.5\n",
    "y_0 = 0.2\n",
    "\n",
    "x_star = x_0 + oti.e(1)\n",
    "y_star = y_0 + oti.e(2)"
   ]
  },
  {
   "cell_type": "code",
   "execution_count": null,
   "id": "a280e015",
   "metadata": {},
   "outputs": [],
   "source": [
    "# Function of interest with support for hypercomplex inputs:\n",
    "def func(x,y):\n",
    "    return oti.cos(x*y)*oti.exp(y/x)"
   ]
  },
  {
   "cell_type": "code",
   "execution_count": null,
   "id": "ab4609ba",
   "metadata": {},
   "outputs": [],
   "source": [
    "f_oti = func(x_star,y_star)\n",
    "f_oti"
   ]
  },
  {
   "cell_type": "code",
   "execution_count": null,
   "id": "75db768b",
   "metadata": {},
   "outputs": [],
   "source": [
    "# The real part of the number contains the function evaluated at the point (x_0, y_0)\n",
    "f_oti.real"
   ]
  },
  {
   "cell_type": "code",
   "execution_count": null,
   "id": "7e156f60",
   "metadata": {},
   "outputs": [],
   "source": [
    "# The derivative with respect to x is contained along the epsilon_1 direction. \n",
    "# To obtain it, use the get_deriv method in the OTI number.\n",
    "\n",
    "print(f\"df/dx: {f_oti.get_deriv(1)}\")"
   ]
  },
  {
   "cell_type": "code",
   "execution_count": null,
   "id": "a88c7652",
   "metadata": {},
   "outputs": [],
   "source": [
    "# The derivative with respect to y is contained along the epsilon_2 direction.\n",
    "\n",
    "print(f\"df/dy: {f_oti.get_deriv(2)}\")"
   ]
  }
 ],
 "metadata": {
  "kernelspec": {
   "display_name": "Python 3 (ipykernel)",
   "language": "python",
   "name": "python3"
  },
  "language_info": {
   "codemirror_mode": {
    "name": "ipython",
    "version": 3
   },
   "file_extension": ".py",
   "mimetype": "text/x-python",
   "name": "python",
   "nbconvert_exporter": "python",
   "pygments_lexer": "ipython3",
   "version": "3.9.7"
  }
 },
 "nbformat": 4,
 "nbformat_minor": 5
}
